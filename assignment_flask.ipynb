{
 "cells": [
  {
   "cell_type": "markdown",
   "id": "df090f0b-9684-4542-b92c-0edee95116ae",
   "metadata": {},
   "source": [
    "Q1. Explain GET and POST methods."
   ]
  },
  {
   "cell_type": "markdown",
   "id": "ee2fb091-246c-477d-b2b5-38e0e4db6085",
   "metadata": {},
   "source": [
    "HTTP defines a set of request methods to indicate the desired action to be performed for a given resource. The two most common HTTP request methods are GET and POST.\n",
    "\n",
    "The GET method is mainly used at the client (Browser) side to send a request to a specified server to get certain data or resources. Using this method the server should only let us receive the data and not change its state. Hence it is only used to view something and not to change it. The request parameter of the GET method is appended to the URL. Get request is better for the data which does not need to be secure (It means the data which does not contain images or word documents)\n",
    "\n",
    "The POST method is mainly used at the client (Browser) side to send data to a specified server in order to create or rewrite a particular resource/data. This data sent to the server is stored in the request body of the HTTP request. Post method eventually leads to the creation of a new resource or updating an existing one. Due to this dynamic use, it is one of the most used HTTP methods. It is not one of the most secure methods because the data that is been sent is included in the body of the request and not in the URL. Post request is better for the data which needs to be secure (It means the data which contains images or word documents)"
   ]
  },
  {
   "cell_type": "code",
   "execution_count": null,
   "id": "37a87b99-b633-49c8-a091-5af3c4f663f7",
   "metadata": {},
   "outputs": [],
   "source": []
  },
  {
   "cell_type": "markdown",
   "id": "7b134b7d-a678-47a3-9e43-b2701c0eb072",
   "metadata": {},
   "source": [
    "Q2. Why is request used in Flask?"
   ]
  },
  {
   "cell_type": "markdown",
   "id": "8a02f3ae-6067-4e97-8f37-fa5d78759f2a",
   "metadata": {},
   "source": [
    "The Request in Flask is an object that contains all the data sent from the client to server. This data can be recovered using the GET/POST methods. POST is used when your application expects user input to be received by command or an HTTP request, while GET gets all the information before it even has a chance for submission"
   ]
  },
  {
   "cell_type": "code",
   "execution_count": null,
   "id": "8563d31b-907c-45ef-857a-37e42f0956e5",
   "metadata": {},
   "outputs": [],
   "source": []
  },
  {
   "cell_type": "markdown",
   "id": "e549716d-cf81-4013-ad6c-a5805635f3ef",
   "metadata": {},
   "source": [
    "Q3. Why is redirect() used in Flask?"
   ]
  },
  {
   "cell_type": "markdown",
   "id": "82fd8aef-f488-460e-b537-6a766f928b3d",
   "metadata": {},
   "source": [
    "In Flask, redirect returns a response object that, if called, redirects the client to the target location. The supported codes are 301, 302, 303, 305, and 307.\n",
    "\n",
    "A redirect request adds an HTTP header and is sent with a status code 302, which causes the browser to send a new GET request to the specified location.\n",
    "\n",
    "A redirect is used in the Flask class to send the user to a particular URL with the status code. Conversely, this status code additionally identifies the issue. When we access a website, our browser sends a request to the server, and the server replies with what is known as the HTTP status code, which is a three-digit number.\n"
   ]
  },
  {
   "cell_type": "code",
   "execution_count": null,
   "id": "c6d3c5a4-fdee-42b1-aa8f-39acc2f08a10",
   "metadata": {},
   "outputs": [],
   "source": []
  },
  {
   "cell_type": "markdown",
   "id": "363582c5-7b89-4999-b8aa-11660411f6fa",
   "metadata": {},
   "source": [
    "Q4. What are templates in Flask? Why is the render_template() function used?"
   ]
  },
  {
   "cell_type": "markdown",
   "id": "67bf7eb9-edd8-437f-a894-3d6eabdc1d1a",
   "metadata": {},
   "source": [
    "Templates are files that contain static data as well as placeholders for dynamic data. Flask uses the Jinja template library to render templates. The render_template() function is used to render the external HTML file to be returned as the response from the view function. The function takes the name of the template file as an argument and returns the rendered HTML as a response.\n",
    "\n",
    "The render_template() function allows us to call the HTML file that has been written through Flask. These HTML files must be placed in the templates folder prepared in advance"
   ]
  },
  {
   "cell_type": "code",
   "execution_count": null,
   "id": "12a8b62a-235e-48c7-9737-5ef6d438f031",
   "metadata": {},
   "outputs": [],
   "source": []
  },
  {
   "cell_type": "code",
   "execution_count": null,
   "id": "602b193f-02c3-41fe-922c-f76478fa3199",
   "metadata": {},
   "outputs": [],
   "source": []
  }
 ],
 "metadata": {
  "kernelspec": {
   "display_name": "Python 3 (ipykernel)",
   "language": "python",
   "name": "python3"
  },
  "language_info": {
   "codemirror_mode": {
    "name": "ipython",
    "version": 3
   },
   "file_extension": ".py",
   "mimetype": "text/x-python",
   "name": "python",
   "nbconvert_exporter": "python",
   "pygments_lexer": "ipython3",
   "version": "3.10.8"
  }
 },
 "nbformat": 4,
 "nbformat_minor": 5
}
